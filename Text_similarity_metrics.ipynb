{
  "nbformat": 4,
  "nbformat_minor": 0,
  "metadata": {
    "colab": {
      "provenance": []
    },
    "kernelspec": {
      "name": "python3",
      "display_name": "Python 3"
    },
    "language_info": {
      "name": "python"
    }
  },
  "cells": [
    {
      "cell_type": "code",
      "execution_count": 13,
      "metadata": {
        "colab": {
          "base_uri": "https://localhost:8080/"
        },
        "id": "KHxrB4AcohLQ",
        "outputId": "40b72519-8a50-4664-a3cb-1c49664b6dc6"
      },
      "outputs": [
        {
          "output_type": "stream",
          "name": "stdout",
          "text": [
            "3000\n",
            "3000\n",
            "ROUGE-1 score: 0.32451499118165783\n",
            "ROUGE-2 score: 0.11483468527414017\n",
            "ROUGE-L score: 0.009538106189417589\n"
          ]
        }
      ],
      "source": [
        "from nltk.translate.bleu_score import sentence_bleu\n",
        "from nltk.translate.bleu_score import SmoothingFunction\n",
        "\n",
        "def rouge_n_score(candidate, reference, n):\n",
        "    smoothing = SmoothingFunction().method1\n",
        "    candidate_tokens = candidate.split()\n",
        "    reference_tokens = reference.split()\n",
        "    return sentence_bleu([reference_tokens], candidate_tokens, smoothing_function=smoothing, weights=[1.0/n]*n)\n",
        "\n",
        "def rouge_l_score(candidate, reference):\n",
        "    smoothing = SmoothingFunction().method1\n",
        "    candidate_tokens = candidate.split()\n",
        "    reference_tokens = reference.split()\n",
        "    return sentence_bleu([reference_tokens], candidate_tokens, smoothing_function=smoothing)\n",
        "\n",
        "# Example usage\n",
        "generated_summary = \"\"\"nelong to the palace the forth evext that it Jinn which the building thy hindment a piece of the Wezeer to this She kissmoryThus was the But\n",
        "the purse in heav and capting fears are period five by such But the eyes the noret\n",
        "camelO ped the his wayBarain This este regates with the unnels in that if than time pisting The law is disses divinaned that which She answered with the kinds upll severalous\n",
        "eyes but the\n",
        "sage DZam chanted\n",
        "omi graam languided anothen carries with respecting the same of inate bridegrols them had eated on the policrouled by EElJabndanlness in it the cageles of who have no the slave away the that the time of Palace rective for respeating till dend head\n",
        "his fteent which I ridised every inder the sup is place pasrothed his powen deprinciption of the city called by God\n",
        "felighted out madays fir bath to be of the Khaleefeh opening the piece me stuffs but God Hatten Hone shearing\n",
        "fish childbe liberation enter performs serpent and rhe liad of the veil Jinn arm tishnus and had collected himself Whenefst he verilth the humpble twelve ordered at my hath never seen as Ibrheeem in their fram that he will that may fevautegaathenseo by the gazills it\n",
        "and atnessed in the mids of a candled it calf the build garden nilter the monishmen  all what is knowlsed a branch is\n",
        "after man should be in\n",
        "amost ambnas cose that of the Prophet inother of the hands of salabueter fine that left on Book the Divination and came reason faste ElIsandfw Temred\n",
        "the caomentres supply sifned\n",
        "my caming he placesA ElBarder himself a prone whone of the\n",
        "station her\n",
        "hea large rion of Shereso O it if that they servant\n",
        " accovering the money and it said Jews I are dost there will be or that seen charable ods the ory having mob a be seas\n",
        "prophecabid the soul\n",
        "upon them of Birating a hade be only us know men when I had no the know  passhy take enter its in she came ammediately these nwered the intwo words which I baskerours haeay thou hast soncast tot the cappet happines and\n",
        "exclad the must be night of a how hump and ets under what was the utled therefore thejson of methat Mousmy I as\n",
        "to me and I wisten hath toreas highth he came utmost given to her\n",
        "When the stee at the made forfiguished find he admissian assI have locks is to the fowl The mistress and is that of this man acquaintins of that happined for it is would\n",
        "but God dit forrian rest the soo saidstrick the but he alth\n",
        "lew it both I trousiers was is not cobuide the\n",
        "close when the\n",
        "King allso Sinder thee all pieted into a lamp manner or a melhin garby the coman and he into bitter its spacame heighty and the humpbacked his hampit was in he stly a honour may he be exalt for a\n",
        "is shave too grind a punion\n",
        "with it would part face hand ements opers that thou\n",
        "hast enote night hath rewar She waterds om utterss she But more worly\n",
        "of the Emes of gy the brought it is the  near the entered the\n",
        "Nides they instruct it ell persired grast down and he wance and once Shaharriyr wails\n",
        "osimplion the CONiutus Fusthy at this paid crass he Odation\n",
        "th\"\"\"\n",
        "reference_summary = \"\"\"\n",
        "To proceedThe lives of\n",
        "former generations are a lesson\n",
        "to posterity that a man may\n",
        "review the remarkable events\n",
        "which have happened to others and be admonished and may consider\n",
        "the history of people of preceding ages and of all that hath\n",
        "befallen them and be restrained Extolled be the perfection of\n",
        "Him who hath thus ordained the history of former generations to be\n",
        "a lesson to those which follow Such are the Tales of a Thousand\n",
        "and One Nights with their romantic stories and their fables\n",
        "It is related but God alone is allknowing as well as allwise\n",
        "and almighty and allbountiful that there was in ancient times a\n",
        "King of the countries of India and China possessing numerous troops\n",
        "and guards and servants and domestic dependents and he had two\n",
        "sons one of whom was a man of mature age and the other a youth\n",
        "Both of these princes were brave horsemen but especially the elder\n",
        "who inherited the kingdom of his father and governed his subjects\n",
        "with such justice that the inhabitants of his country and whole empire\n",
        "loved him He was called King Shahriyr his younger brother\n",
        "was named ShhZemn and was King of Samarand The administration\n",
        "of their governments was conducted with rectitude each\n",
        "of them ruling over his subjects with justice during a period of twenty\n",
        "years with the utmost enjoyment and happiness After this period\n",
        "the elder King felt a strong desire to see his brother and ordered his\n",
        "Wezeer to repair to him and bring him\n",
        "\n",
        "Having taken the advice of the Wezeer on this subject he immediately\n",
        "gave orders to prepare handsome presents such as horses\n",
        "adorned with gold and costly jewels and memlooks and beautiful\n",
        "virgins and expensive stuffs He then wrote a letter to his brother\n",
        "expressive of his great desire to see him and having sealed it and\n",
        "given it to the Wezeer together with the presents above mentioned\n",
        "he ordered the minister to strain his nerves and tuck up his skirts\n",
        "and use all expedition in returning The Wezeer answered without\n",
        "delay I hear and obey and forthwith prepared for the journey he\n",
        "packed his baggage removed the burdens and made ready all his\n",
        "provisions within three days and on the fourth day he took leave\n",
        "of the King Shahriyr and went forth towards the deserts and wastes\n",
        "He proceeded night and day and each of the kings under the\n",
        "authority of King Shahriyr by whose residence he passed came forth\n",
        "to meet him with costly presents and gifts of gold and silver and\n",
        "entertained him three days after which on the fourth day he\n",
        "accompanied him one days journey and took leave of him Thus he\n",
        "continued on his way until he drew near to the city of Samarand\n",
        "when he sent forward a messenger to inform King ShhZemn of\n",
        "his approach The messenger entered the city inquired the way to\n",
        "the palace and introducing himself to the King kissed the ground\n",
        "before him and acquainted him with the approach of his brothers\n",
        "Wezeer upon which ShhZemn ordered the chief officers of his\n",
        "court and the great men of his kingdom to go forth a days journey\n",
        "to meet him and they did\n",
        "\n",
        "\n",
        "\n",
        "\"\"\"\n",
        "print(len(generated_summary))\n",
        "print(len(reference_summary))\n",
        "\n",
        "\n",
        "rouge1_score = rouge_n_score(generated_summary, reference_summary, 1)\n",
        "rouge2_score = rouge_n_score(generated_summary, reference_summary, 2)\n",
        "rougeL_score = rouge_l_score(generated_summary, reference_summary)\n",
        "\n",
        "print(\"ROUGE-1 score:\", rouge1_score)\n",
        "print(\"ROUGE-2 score:\", rouge2_score)\n",
        "print(\"ROUGE-L score:\", rougeL_score)\n"
      ]
    },
    {
      "cell_type": "code",
      "source": [
        "ROUGE scores tend to decrease as the length of the text increases, as it becomes more challenging for the generated summary to match the longer reference summary. In such cases, achieving high ROUGE scores, especially for ROUGE-2 and ROUGE-L, can be more challenging.\n",
        "\n",
        "Considering that ROUGE-1 score is 0.33 and ROUGE-2 score is 0.12 for a 3000-character summary, it indicates some level of similarity between the generated summary and the reference summary. The ROUGE-L score of 0.01 indicates that the generated summary has some overlapping subsequences with the reference summary, though it may not capture the longest common subsequence effectively."
      ],
      "metadata": {
        "id": "kogzkzM_wfG9"
      },
      "execution_count": null,
      "outputs": []
    },
    {
      "cell_type": "markdown",
      "source": [
        "ROUGE scores tend to decrease as the length of the text increases, as it becomes more challenging for the generated summary to match the longer reference summary. In such cases, achieving high ROUGE scores, especially for ROUGE-2 and ROUGE-L, can be more challenging.\n",
        "\n",
        "Considering that ROUGE-1 score is 0.33 and ROUGE-2 score is 0.12 for a 3000-character summary, it indicates some level of similarity between the generated summary and the reference summary. The ROUGE-L score of 0.01 indicates that the generated summary has some overlapping subsequences with the reference summary, though it may not capture the longest common subsequence effectively."
      ],
      "metadata": {
        "id": "TFl2b7teVDZ2"
      }
    },
    {
      "cell_type": "code",
      "source": [
        "from nltk.translate.bleu_score import sentence_bleu, SmoothingFunction\n",
        "\n",
        "def bleu_score(candidate, reference):\n",
        "    smoothing = SmoothingFunction().method1\n",
        "    candidate_tokens = candidate.split()\n",
        "    reference_tokens = reference.split()\n",
        "    return sentence_bleu([reference_tokens], candidate_tokens, smoothing_function=smoothing)\n",
        "\n",
        "\n",
        "# Example usage\n",
        "generated_summary = \"\"\"nelong to the palace the forth evext that it Jinn which the building thy hindment a piece of the Wezeer to this She kissmoryThus was the But\n",
        "the purse in heav and capting fears are period five by such But the eyes the noret\n",
        "camelO ped the his wayBarain This este regates with the unnels in that if than time pisting The law is disses divinaned that which She answered with the kinds upll severalous\n",
        "eyes but the\n",
        "sage DZam chanted\n",
        "omi graam languided anothen carries with respecting the same of inate bridegrols them had eated on the policrouled by EElJabndanlness in it the cageles of who have no the slave away the that the time of Palace rective for respeating till dend head\n",
        "his fteent which I ridised every inder the sup is place pasrothed his powen deprinciption of the city called by God\n",
        "felighted out madays fir bath to be of the Khaleefeh opening the piece me stuffs but God Hatten Hone shearing\n",
        "fish childbe liberation enter performs serpent and rhe liad of the veil Jinn arm tishnus and had collected himself Whenefst he verilth the humpble twelve ordered at my hath never seen as Ibrheeem in their fram that he will that may fevautegaathenseo by the gazills it\n",
        "and atnessed in the mids of a candled it calf the build garden nilter the monishmen  all what is knowlsed a branch is\n",
        "after man should be in\n",
        "amost ambnas cose that of the Prophet inother of the hands of salabueter fine that left on Book the Divination and came reason faste ElIsandfw Temred\n",
        "the caomentres supply sifned\n",
        "my caming he placesA ElBarder himself a prone whone of the\n",
        "station her\n",
        "hea large rion of Shereso O it if that they servant\n",
        " accovering the money and it said Jews I are dost there will be or that seen charable ods the ory having mob a be seas\n",
        "prophecabid the soul\n",
        "upon them of Birating a hade be only us know men when I had no the know  passhy take enter its in she came ammediately these nwered the intwo words which I baskerours haeay thou hast soncast tot the cappet happines and\n",
        "exclad the must be night of a how hump and ets under what was the utled therefore thejson of methat Mousmy I as\n",
        "to me and I wisten hath toreas highth he came utmost given to her\n",
        "When the stee at the made forfiguished find he admissian assI have locks is to the fowl The mistress and is that of this man acquaintins of that happined for it is would\n",
        "but God dit forrian rest the soo saidstrick the but he alth\n",
        "lew it both I trousiers was is not cobuide the\n",
        "close when the\n",
        "King allso Sinder thee all pieted into a lamp manner or a melhin garby the coman and he into bitter its spacame heighty and the humpbacked his hampit was in he stly a honour may he be exalt for a\n",
        "is shave too grind a punion\n",
        "with it would part face hand ements opers that thou\n",
        "hast enote night hath rewar She waterds om utterss she But more worly\n",
        "of the Emes of gy the brought it is the  near the entered the\n",
        "Nides they instruct it ell persired grast down and he wance and once Shaharriyr wails\n",
        "osimplion the CONiutus Fusthy at this paid crass he Odation\n",
        "th\"\"\"\n",
        "\n",
        "reference_summary = \"\"\"\n",
        "To proceedThe lives of\n",
        "former generations are a lesson\n",
        "to posterity that a man may\n",
        "review the remarkable events\n",
        "which have happened to others and be admonished and may consider\n",
        "the history of people of preceding ages and of all that hath\n",
        "befallen them and be restrained Extolled be the perfection of\n",
        "Him who hath thus ordained the history of former generations to be\n",
        "a lesson to those which follow Such are the Tales of a Thousand\n",
        "and One Nights with their romantic stories and their fables\n",
        "It is related but God alone is allknowing as well as allwise\n",
        "and almighty and allbountiful that there was in ancient times a\n",
        "King of the countries of India and China possessing numerous troops\n",
        "and guards and servants and domestic dependents and he had two\n",
        "sons one of whom was a man of mature age and the other a youth\n",
        "Both of these princes were brave horsemen but especially the elder\n",
        "who inherited the kingdom of his father and governed his subjects\n",
        "with such justice that the inhabitants of his country and whole empire\n",
        "loved him He was called King Shahriyr his younger brother\n",
        "was named ShhZemn and was King of Samarand The administration\n",
        "of their governments was conducted with rectitude each\n",
        "of them ruling over his subjects with justice during a period of twenty\n",
        "years with the utmost enjoyment and happiness After this period\n",
        "the elder King felt a strong desire to see his brother and ordered his\n",
        "Wezeer to repair to him and bring him\n",
        "\n",
        "Having taken the advice of the Wezeer on this subject he immediately\n",
        "gave orders to prepare handsome presents such as horses\n",
        "adorned with gold and costly jewels and memlooks and beautiful\n",
        "virgins and expensive stuffs He then wrote a letter to his brother\n",
        "expressive of his great desire to see him and having sealed it and\n",
        "given it to the Wezeer together with the presents above mentioned\n",
        "he ordered the minister to strain his nerves and tuck up his skirts\n",
        "and use all expedition in returning The Wezeer answered without\n",
        "delay I hear and obey and forthwith prepared for the journey he\n",
        "packed his baggage removed the burdens and made ready all his\n",
        "provisions within three days and on the fourth day he took leave\n",
        "of the King Shahriyr and went forth towards the deserts and wastes\n",
        "He proceeded night and day and each of the kings under the\n",
        "authority of King Shahriyr by whose residence he passed came forth\n",
        "to meet him with costly presents and gifts of gold and silver and\n",
        "entertained him three days after which on the fourth day he\n",
        "accompanied him one days journey and took leave of him Thus he\n",
        "continued on his way until he drew near to the city of Samarand\n",
        "when he sent forward a messenger to inform King ShhZemn of\n",
        "his approach The messenger entered the city inquired the way to\n",
        "the palace and introducing himself to the King kissed the ground\n",
        "before him and acquainted him with the approach of his brothers\n",
        "Wezeer upon which ShhZemn ordered the chief officers of his\n",
        "court and the great men of his kingdom to go forth a days journey\n",
        "to meet him and they did\n",
        "\n",
        "\n",
        "\"\"\"\n",
        "print(len(generated_summary))\n",
        "print(len(reference_summary))\n",
        "\n",
        "bleu_score = bleu_score(generated_summary, reference_summary)\n",
        "\n",
        "print(\"BLEU score:\", bleu_score)\n"
      ],
      "metadata": {
        "colab": {
          "base_uri": "https://localhost:8080/"
        },
        "id": "D0r8VJo4pVil",
        "outputId": "5ae7857b-adb0-4099-f6b6-755392e52caf"
      },
      "execution_count": 1,
      "outputs": [
        {
          "output_type": "stream",
          "name": "stdout",
          "text": [
            "3000\n",
            "2999\n",
            "BLEU score: 0.009538106189417589\n"
          ]
        }
      ]
    },
    {
      "cell_type": "code",
      "source": [
        "import nltk\n",
        "nltk.download('wordnet')\n"
      ],
      "metadata": {
        "colab": {
          "base_uri": "https://localhost:8080/"
        },
        "id": "cVBik8FhdUYV",
        "outputId": "e1fd719b-9964-46de-b308-9a5dd31cb7ed"
      },
      "execution_count": 2,
      "outputs": [
        {
          "output_type": "stream",
          "name": "stderr",
          "text": [
            "[nltk_data] Downloading package wordnet to /root/nltk_data...\n"
          ]
        },
        {
          "output_type": "execute_result",
          "data": {
            "text/plain": [
              "True"
            ]
          },
          "metadata": {},
          "execution_count": 2
        }
      ]
    },
    {
      "cell_type": "code",
      "source": [
        "import nltk\n",
        "nltk.download('punkt')"
      ],
      "metadata": {
        "colab": {
          "base_uri": "https://localhost:8080/"
        },
        "id": "ncWEpkfFg1iV",
        "outputId": "65976b3b-49aa-4da3-acbf-c4369686b14a"
      },
      "execution_count": 8,
      "outputs": [
        {
          "output_type": "stream",
          "name": "stderr",
          "text": [
            "[nltk_data] Downloading package punkt to /root/nltk_data...\n",
            "[nltk_data]   Unzipping tokenizers/punkt.zip.\n"
          ]
        },
        {
          "output_type": "execute_result",
          "data": {
            "text/plain": [
              "True"
            ]
          },
          "metadata": {},
          "execution_count": 8
        }
      ]
    },
    {
      "cell_type": "code",
      "source": [
        "from nltk.translate import meteor_score\n",
        "from nltk.tokenize import word_tokenize\n",
        "\n",
        "generated_summary = \"\"\"nelong to the palace the forth evext that it Jinn which the building thy hindment a piece of the Wezeer to this She kissmoryThus was the But\n",
        "the purse in heav and capting fears are period five by such But the eyes the noret\n",
        "camelO ped the his wayBarain This este regates with the unnels in that if than time pisting The law is disses divinaned that which She answered with the kinds upll severalous\n",
        "eyes but the\n",
        "sage DZam chanted\n",
        "omi graam languided anothen carries with respecting the same of inate bridegrols them had eated on the policrouled by EElJabndanlness in it the cageles of who have no the slave away the that the time of Palace rective for respeating till dend head\n",
        "his fteent which I ridised every inder the sup is place pasrothed his powen deprinciption of the city called by God\n",
        "felighted out madays fir bath to be of the Khaleefeh opening the piece me stuffs but God Hatten Hone shearing\n",
        "fish childbe liberation enter performs serpent and rhe liad of the veil Jinn arm tishnus and had collected himself Whenefst he verilth the humpble twelve ordered at my hath never seen as Ibrheeem in their fram that he will that may fevautegaathenseo by the gazills it\n",
        "and atnessed in the mids of a candled it calf the build garden nilter the monishmen  all what is knowlsed a branch is\n",
        "after man should be in\n",
        "amost ambnas cose that of the Prophet inother of the hands of salabueter fine that left on Book the Divination and came reason faste ElIsandfw Temred\n",
        "the caomentres supply sifned\n",
        "my caming he placesA ElBarder himself a prone whone of the\n",
        "station her\n",
        "hea large rion of Shereso O it if that they servant\n",
        " accovering the money and it said Jews I are dost there will be or that seen charable ods the ory having mob a be seas\n",
        "prophecabid the soul\n",
        "upon them of Birating a hade be only us know men when I had no the know  passhy take enter its in she came ammediately these nwered the intwo words which I baskerours haeay thou hast soncast tot the cappet happines and\n",
        "exclad the must be night of a how hump and ets under what was the utled therefore thejson of methat Mousmy I as\n",
        "to me and I wisten hath toreas highth he came utmost given to her\n",
        "When the stee at the made forfiguished find he admissian assI have locks is to the fowl The mistress and is that of this man acquaintins of that happined for it is would\n",
        "but God dit forrian rest the soo saidstrick the but he alth\n",
        "lew it both I trousiers was is not cobuide the\n",
        "close when the\n",
        "King allso Sinder thee all pieted into a lamp manner or a melhin garby the coman and he into bitter its spacame heighty and the humpbacked his hampit was in he stly a honour may he be exalt for a\n",
        "is shave too grind a punion\n",
        "with it would part face hand ements opers that thou\n",
        "hast enote night hath rewar She waterds om utterss she But more worly\n",
        "of the Emes of gy the brought it is the  near the entered the\n",
        "Nides they instruct it ell persired grast down and he wance and once Shaharriyr wails\n",
        "osimplion the CONiutus Fusthy at this paid crass he Odation\n",
        "th\"\"\"\n",
        "\n",
        "reference_summary = \"\"\"\n",
        "To proceedThe lives of\n",
        "former generations are a lesson\n",
        "to posterity that a man may\n",
        "review the remarkable events\n",
        "which have happened to others and be admonished and may consider\n",
        "the history of people of preceding ages and of all that hath\n",
        "befallen them and be restrained Extolled be the perfection of\n",
        "Him who hath thus ordained the history of former generations to be\n",
        "a lesson to those which follow Such are the Tales of a Thousand\n",
        "and One Nights with their romantic stories and their fables\n",
        "It is related but God alone is allknowing as well as allwise\n",
        "and almighty and allbountiful that there was in ancient times a\n",
        "King of the countries of India and China possessing numerous troops\n",
        "and guards and servants and domestic dependents and he had two\n",
        "sons one of whom was a man of mature age and the other a youth\n",
        "Both of these princes were brave horsemen but especially the elder\n",
        "who inherited the kingdom of his father and governed his subjects\n",
        "with such justice that the inhabitants of his country and whole empire\n",
        "loved him He was called King Shahriyr his younger brother\n",
        "was named ShhZemn and was King of Samarand The administration\n",
        "of their governments was conducted with rectitude each\n",
        "of them ruling over his subjects with justice during a period of twenty\n",
        "years with the utmost enjoyment and happiness After this period\n",
        "the elder King felt a strong desire to see his brother and ordered his\n",
        "Wezeer to repair to him and bring him\n",
        "\n",
        "Having taken the advice of the Wezeer on this subject he immediately\n",
        "gave orders to prepare handsome presents such as horses\n",
        "adorned with gold and costly jewels and memlooks and beautiful\n",
        "virgins and expensive stuffs He then wrote a letter to his brother\n",
        "expressive of his great desire to see him and having sealed it and\n",
        "given it to the Wezeer together with the presents above mentioned\n",
        "he ordered the minister to strain his nerves and tuck up his skirts\n",
        "and use all expedition in returning The Wezeer answered without\n",
        "delay I hear and obey and forthwith prepared for the journey he\n",
        "packed his baggage removed the burdens and made ready all his\n",
        "provisions within three days and on the fourth day he took leave\n",
        "of the King Shahriyr and went forth towards the deserts and wastes\n",
        "He proceeded night and day and each of the kings under the\n",
        "authority of King Shahriyr by whose residence he passed came forth\n",
        "to meet him with costly presents and gifts of gold and silver and\n",
        "entertained him three days after which on the fourth day he\n",
        "accompanied him one days journey and took leave of him Thus he\n",
        "continued on his way until he drew near to the city of Samarand\n",
        "when he sent forward a messenger to inform King ShhZemn of\n",
        "his approach The messenger entered the city inquired the way to\n",
        "the palace and introducing himself to the King kissed the ground\n",
        "before him and acquainted him with the approach of his brothers\n",
        "Wezeer upon which ShhZemn ordered the chief officers of his\n",
        "court and the great men of his kingdom to go forth a days journey\n",
        "to meet him and they did\n",
        "\"\"\"\n",
        "\n",
        "# Tokenize the sentences\n",
        "generated_summary_tokens = word_tokenize(generated_summary)\n",
        "reference_summary_tokens = word_tokenize(reference_summary)\n",
        "\n",
        "# Calculate the METEOR score\n",
        "meteor_score = meteor_score.meteor_score([reference_summary_tokens], generated_summary_tokens)\n",
        "\n",
        "# Print the METEOR score\n",
        "print(\"METEOR score:\", meteor_score)\n"
      ],
      "metadata": {
        "colab": {
          "base_uri": "https://localhost:8080/"
        },
        "id": "1uSF5KlhqWzZ",
        "outputId": "51fb4f1f-93e8-4a6e-fd8a-a9af89440d05"
      },
      "execution_count": 9,
      "outputs": [
        {
          "output_type": "stream",
          "name": "stdout",
          "text": [
            "METEOR score: 0.20092592592592592\n"
          ]
        }
      ]
    },
    {
      "cell_type": "markdown",
      "source": [
        "A METEOR score of 0.2009 means that the generated summary has a moderate level of similarity and alignment with the reference summary.\n"
      ],
      "metadata": {
        "id": "GUeArKJYhELQ"
      }
    },
    {
      "cell_type": "code",
      "source": [],
      "metadata": {
        "id": "7JIIjp7HdaJU"
      },
      "execution_count": null,
      "outputs": []
    }
  ]
}